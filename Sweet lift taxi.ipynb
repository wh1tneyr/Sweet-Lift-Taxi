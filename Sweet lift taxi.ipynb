{
 "cells": [
  {
   "cell_type": "markdown",
   "metadata": {},
   "source": [
    "# Sweet list taxi - series numéricas\n",
    "\n",
    "#### 0.1. Introducción \n",
    "\n",
    "Una compañía de taxis desea predecir la cantidad de pedidos de taxis para la próxima hora con el fin de atraer a más conductores durante las horas más ajetreadas del día. Para esta tarea contamos con una base de datos proporcionada por ellos, sobre pedidos de taxis en los aeropuertos. \n",
    "Para lograr tal objetivo, entrenaré diferentes modelos de regresión y evaluaré su desempeño con la métrica RMSE. Finalmnete, elegiré el modelo más preciso y lo pondré a prueba con un conjunto de datos apartado justamente para ello. \n",
    "\n",
    "\n",
    "#### 0.1.1. Tabla de contendido:"
   ]
  },
  {
   "cell_type": "markdown",
   "metadata": {},
   "source": [
    "# 1. Preparar datos "
   ]
  },
  {
   "cell_type": "code",
   "execution_count": 1,
   "metadata": {},
   "outputs": [],
   "source": [
    "#importar librerias\n",
    "import pandas as pd\n",
    "import matplotlib.pyplot as plt\n",
    "from statsmodels.tsa.seasonal import seasonal_decompose\n",
    "from sklearn.model_selection import train_test_split\n",
    "from sklearn.metrics import mean_squared_error\n",
    "from sklearn.model_selection import train_test_split, GridSearchCV\n",
    "from sklearn.preprocessing import StandardScaler\n",
    "\n",
    "from sklearn.linear_model import LinearRegression\n",
    "from sklearn.ensemble import RandomForestRegressor\n",
    "from catboost import CatBoostRegressor\n",
    "from lightgbm import LGBMRegressor\n"
   ]
  },
  {
   "cell_type": "code",
   "execution_count": 2,
   "metadata": {},
   "outputs": [],
   "source": [
    "#cargar datos en un dataframe\n",
    "df_taxis = pd.read_csv('/Users/whitneyrios/PYTHON/My projects py/proyecto 13/Sweet-Lift-Taxi--Series-numericas/dataset/taxi.csv', parse_dates=[0], index_col=[0])"
   ]
  },
  {
   "cell_type": "code",
   "execution_count": 3,
   "metadata": {},
   "outputs": [
    {
     "data": {
      "text/html": [
       "<div>\n",
       "<style scoped>\n",
       "    .dataframe tbody tr th:only-of-type {\n",
       "        vertical-align: middle;\n",
       "    }\n",
       "\n",
       "    .dataframe tbody tr th {\n",
       "        vertical-align: top;\n",
       "    }\n",
       "\n",
       "    .dataframe thead th {\n",
       "        text-align: right;\n",
       "    }\n",
       "</style>\n",
       "<table border=\"1\" class=\"dataframe\">\n",
       "  <thead>\n",
       "    <tr style=\"text-align: right;\">\n",
       "      <th></th>\n",
       "      <th>num_orders</th>\n",
       "    </tr>\n",
       "    <tr>\n",
       "      <th>datetime</th>\n",
       "      <th></th>\n",
       "    </tr>\n",
       "  </thead>\n",
       "  <tbody>\n",
       "    <tr>\n",
       "      <th>2018-03-01 00:00:00</th>\n",
       "      <td>9</td>\n",
       "    </tr>\n",
       "    <tr>\n",
       "      <th>2018-03-01 00:10:00</th>\n",
       "      <td>14</td>\n",
       "    </tr>\n",
       "    <tr>\n",
       "      <th>2018-03-01 00:20:00</th>\n",
       "      <td>28</td>\n",
       "    </tr>\n",
       "    <tr>\n",
       "      <th>2018-03-01 00:30:00</th>\n",
       "      <td>20</td>\n",
       "    </tr>\n",
       "    <tr>\n",
       "      <th>2018-03-01 00:40:00</th>\n",
       "      <td>32</td>\n",
       "    </tr>\n",
       "  </tbody>\n",
       "</table>\n",
       "</div>"
      ],
      "text/plain": [
       "                     num_orders\n",
       "datetime                       \n",
       "2018-03-01 00:00:00           9\n",
       "2018-03-01 00:10:00          14\n",
       "2018-03-01 00:20:00          28\n",
       "2018-03-01 00:30:00          20\n",
       "2018-03-01 00:40:00          32"
      ]
     },
     "execution_count": 3,
     "metadata": {},
     "output_type": "execute_result"
    }
   ],
   "source": [
    "#visualizar los datos\n",
    "df_taxis.head()"
   ]
  },
  {
   "cell_type": "code",
   "execution_count": 4,
   "metadata": {},
   "outputs": [
    {
     "name": "stdout",
     "output_type": "stream",
     "text": [
      "<class 'pandas.core.frame.DataFrame'>\n",
      "DatetimeIndex: 26496 entries, 2018-03-01 00:00:00 to 2018-08-31 23:50:00\n",
      "Data columns (total 1 columns):\n",
      " #   Column      Non-Null Count  Dtype\n",
      "---  ------      --------------  -----\n",
      " 0   num_orders  26496 non-null  int64\n",
      "dtypes: int64(1)\n",
      "memory usage: 414.0 KB\n"
     ]
    }
   ],
   "source": [
    "#viendo la informacion general \n",
    "df_taxis.info()"
   ]
  },
  {
   "cell_type": "code",
   "execution_count": 5,
   "metadata": {},
   "outputs": [
    {
     "data": {
      "text/plain": [
       "num_orders    0\n",
       "dtype: int64"
      ]
     },
     "execution_count": 5,
     "metadata": {},
     "output_type": "execute_result"
    }
   ],
   "source": [
    "#verificar valores ausentes \n",
    "df_taxis.isna().sum()"
   ]
  },
  {
   "cell_type": "code",
   "execution_count": 6,
   "metadata": {},
   "outputs": [
    {
     "data": {
      "text/html": [
       "<div>\n",
       "<style scoped>\n",
       "    .dataframe tbody tr th:only-of-type {\n",
       "        vertical-align: middle;\n",
       "    }\n",
       "\n",
       "    .dataframe tbody tr th {\n",
       "        vertical-align: top;\n",
       "    }\n",
       "\n",
       "    .dataframe thead th {\n",
       "        text-align: right;\n",
       "    }\n",
       "</style>\n",
       "<table border=\"1\" class=\"dataframe\">\n",
       "  <thead>\n",
       "    <tr style=\"text-align: right;\">\n",
       "      <th></th>\n",
       "      <th>num_orders</th>\n",
       "    </tr>\n",
       "  </thead>\n",
       "  <tbody>\n",
       "    <tr>\n",
       "      <th>count</th>\n",
       "      <td>26496.000000</td>\n",
       "    </tr>\n",
       "    <tr>\n",
       "      <th>mean</th>\n",
       "      <td>14.070463</td>\n",
       "    </tr>\n",
       "    <tr>\n",
       "      <th>std</th>\n",
       "      <td>9.211330</td>\n",
       "    </tr>\n",
       "    <tr>\n",
       "      <th>min</th>\n",
       "      <td>0.000000</td>\n",
       "    </tr>\n",
       "    <tr>\n",
       "      <th>25%</th>\n",
       "      <td>8.000000</td>\n",
       "    </tr>\n",
       "    <tr>\n",
       "      <th>50%</th>\n",
       "      <td>13.000000</td>\n",
       "    </tr>\n",
       "    <tr>\n",
       "      <th>75%</th>\n",
       "      <td>19.000000</td>\n",
       "    </tr>\n",
       "    <tr>\n",
       "      <th>max</th>\n",
       "      <td>119.000000</td>\n",
       "    </tr>\n",
       "  </tbody>\n",
       "</table>\n",
       "</div>"
      ],
      "text/plain": [
       "         num_orders\n",
       "count  26496.000000\n",
       "mean      14.070463\n",
       "std        9.211330\n",
       "min        0.000000\n",
       "25%        8.000000\n",
       "50%       13.000000\n",
       "75%       19.000000\n",
       "max      119.000000"
      ]
     },
     "execution_count": 6,
     "metadata": {},
     "output_type": "execute_result"
    }
   ],
   "source": [
    "#verificando descripcion general de los datos\n",
    "df_taxis.describe()"
   ]
  },
  {
   "cell_type": "code",
   "execution_count": 7,
   "metadata": {},
   "outputs": [],
   "source": [
    "#ordenar el indice en orden cronologico\n",
    "df_taxis = df_taxis.sort_index()\n",
    "\n",
    "df_taxis = df_taxis.resample('1h').sum()"
   ]
  },
  {
   "cell_type": "code",
   "execution_count": 8,
   "metadata": {},
   "outputs": [
    {
     "name": "stdout",
     "output_type": "stream",
     "text": [
      "2018-03-01 00:00:00\n",
      "2018-08-31 23:00:00\n"
     ]
    }
   ],
   "source": [
    "#verificar el rango de fechas de la serie temporal\n",
    "print(df_taxis.index.min())\n",
    "print(df_taxis.index.max())"
   ]
  },
  {
   "cell_type": "markdown",
   "metadata": {},
   "source": [
    "Contamos con datos desde el 1 de marzo hasta el 31 de agosto del 2018."
   ]
  },
  {
   "cell_type": "markdown",
   "metadata": {},
   "source": [
    "# 2. Análisis de los datos"
   ]
  },
  {
   "cell_type": "code",
   "execution_count": 9,
   "metadata": {},
   "outputs": [],
   "source": [
    "#examinar la tendencia y estacionalidad de la serie temporal\n",
    "decomposed = seasonal_decompose(df_taxis['num_orders'])"
   ]
  },
  {
   "cell_type": "code",
   "execution_count": 10,
   "metadata": {},
   "outputs": [
    {
     "data": {
      "image/png": "[encoded data removed]",
      "text/plain": [
       "<Figure size 600x800 with 2 Axes>"
      ]
     },
     "metadata": {},
     "output_type": "display_data"
    }
   ],
   "source": [
    "#graficar la tendencia y la estacionalidad de la serie temporal\n",
    "plt.figure(figsize=(6,8))\n",
    "\n",
    "plt.subplot(311)\n",
    "decomposed.trend.plot(ax=plt.gca())\n",
    "plt.title('Trend')\n",
    "\n",
    "plt.subplot(312)\n",
    "decomposed.seasonal.plot(ax=plt.gca())\n",
    "plt.title('Seasonality')\n",
    "\n",
    "plt.tight_layout()"
   ]
  },
  {
   "cell_type": "markdown",
   "metadata": {},
   "source": [
    "Contamos con datos de pedidos desde el mes de marzo hasta el mes de agosto del año 2018. Mediante los gráficos, se aprecia una tendencia ascendente en el número de pedidos y se observa un proceso estacionario en la distribución de los datos."
   ]
  },
  {
   "cell_type": "code",
   "execution_count": 11,
   "metadata": {},
   "outputs": [
    {
     "data": {
      "text/plain": [
       "Text(0.5, 1.0, 'Pedidos del 1er de marzo de 2018')"
      ]
     },
     "execution_count": 11,
     "metadata": {},
     "output_type": "execute_result"
    },
    {
     "data": {
      "image/png": "[encoded data removed]",
      "text/plain": [
       "<Figure size 640x480 with 1 Axes>"
      ]
     },
     "metadata": {},
     "output_type": "display_data"
    }
   ],
   "source": [
    "#visualizar la cantidad de pedidos del primer día\n",
    "df_taxis['2018-03-01':'2018-03-01'].plot()\n",
    "plt.title('Pedidos del 1er de marzo de 2018')"
   ]
  },
  {
   "cell_type": "code",
   "execution_count": 12,
   "metadata": {},
   "outputs": [
    {
     "data": {
      "text/plain": [
       "Text(0.5, 1.0, 'Pedidos del 31 de agosto de 2018')"
      ]
     },
     "execution_count": 12,
     "metadata": {},
     "output_type": "execute_result"
    },
    {
     "data": {
      "image/png": "[encoded data removed]",
      "text/plain": [
       "<Figure size 640x480 with 1 Axes>"
      ]
     },
     "metadata": {},
     "output_type": "display_data"
    }
   ],
   "source": [
    "#visualizar la cantidad de pedidos del último día\n",
    "df_taxis['2018-08-31':'2018-08-31'].plot()\n",
    "plt.title('Pedidos del 31 de agosto de 2018')"
   ]
  },
  {
   "cell_type": "code",
   "execution_count": 13,
   "metadata": {},
   "outputs": [
    {
     "data": {
      "text/html": [
       "<div>\n",
       "<style scoped>\n",
       "    .dataframe tbody tr th:only-of-type {\n",
       "        vertical-align: middle;\n",
       "    }\n",
       "\n",
       "    .dataframe tbody tr th {\n",
       "        vertical-align: top;\n",
       "    }\n",
       "\n",
       "    .dataframe thead th {\n",
       "        text-align: right;\n",
       "    }\n",
       "</style>\n",
       "<table border=\"1\" class=\"dataframe\">\n",
       "  <thead>\n",
       "    <tr style=\"text-align: right;\">\n",
       "      <th></th>\n",
       "      <th>num_orders</th>\n",
       "    </tr>\n",
       "    <tr>\n",
       "      <th>datetime</th>\n",
       "      <th></th>\n",
       "    </tr>\n",
       "  </thead>\n",
       "  <tbody>\n",
       "    <tr>\n",
       "      <th>2018-08-20 02:00:00</th>\n",
       "      <td>462</td>\n",
       "    </tr>\n",
       "    <tr>\n",
       "      <th>2018-08-13 02:00:00</th>\n",
       "      <td>437</td>\n",
       "    </tr>\n",
       "    <tr>\n",
       "      <th>2018-08-27 02:00:00</th>\n",
       "      <td>408</td>\n",
       "    </tr>\n",
       "    <tr>\n",
       "      <th>2018-08-30 17:00:00</th>\n",
       "      <td>342</td>\n",
       "    </tr>\n",
       "    <tr>\n",
       "      <th>2018-08-27 04:00:00</th>\n",
       "      <td>295</td>\n",
       "    </tr>\n",
       "    <tr>\n",
       "      <th>2018-08-18 00:00:00</th>\n",
       "      <td>281</td>\n",
       "    </tr>\n",
       "    <tr>\n",
       "      <th>2018-08-26 00:00:00</th>\n",
       "      <td>281</td>\n",
       "    </tr>\n",
       "    <tr>\n",
       "      <th>2018-08-31 00:00:00</th>\n",
       "      <td>276</td>\n",
       "    </tr>\n",
       "    <tr>\n",
       "      <th>2018-08-13 01:00:00</th>\n",
       "      <td>273</td>\n",
       "    </tr>\n",
       "    <tr>\n",
       "      <th>2018-08-25 00:00:00</th>\n",
       "      <td>273</td>\n",
       "    </tr>\n",
       "    <tr>\n",
       "      <th>2018-08-20 04:00:00</th>\n",
       "      <td>273</td>\n",
       "    </tr>\n",
       "    <tr>\n",
       "      <th>2018-08-20 01:00:00</th>\n",
       "      <td>272</td>\n",
       "    </tr>\n",
       "    <tr>\n",
       "      <th>2018-08-31 04:00:00</th>\n",
       "      <td>268</td>\n",
       "    </tr>\n",
       "    <tr>\n",
       "      <th>2018-08-26 03:00:00</th>\n",
       "      <td>267</td>\n",
       "    </tr>\n",
       "    <tr>\n",
       "      <th>2018-08-29 23:00:00</th>\n",
       "      <td>265</td>\n",
       "    </tr>\n",
       "    <tr>\n",
       "      <th>2018-08-27 00:00:00</th>\n",
       "      <td>263</td>\n",
       "    </tr>\n",
       "    <tr>\n",
       "      <th>2018-08-18 02:00:00</th>\n",
       "      <td>254</td>\n",
       "    </tr>\n",
       "    <tr>\n",
       "      <th>2018-08-30 16:00:00</th>\n",
       "      <td>254</td>\n",
       "    </tr>\n",
       "    <tr>\n",
       "      <th>2018-04-24 00:00:00</th>\n",
       "      <td>253</td>\n",
       "    </tr>\n",
       "    <tr>\n",
       "      <th>2018-07-19 10:00:00</th>\n",
       "      <td>251</td>\n",
       "    </tr>\n",
       "  </tbody>\n",
       "</table>\n",
       "</div>"
      ],
      "text/plain": [
       "                     num_orders\n",
       "datetime                       \n",
       "2018-08-20 02:00:00         462\n",
       "2018-08-13 02:00:00         437\n",
       "2018-08-27 02:00:00         408\n",
       "2018-08-30 17:00:00         342\n",
       "2018-08-27 04:00:00         295\n",
       "2018-08-18 00:00:00         281\n",
       "2018-08-26 00:00:00         281\n",
       "2018-08-31 00:00:00         276\n",
       "2018-08-13 01:00:00         273\n",
       "2018-08-25 00:00:00         273\n",
       "2018-08-20 04:00:00         273\n",
       "2018-08-20 01:00:00         272\n",
       "2018-08-31 04:00:00         268\n",
       "2018-08-26 03:00:00         267\n",
       "2018-08-29 23:00:00         265\n",
       "2018-08-27 00:00:00         263\n",
       "2018-08-18 02:00:00         254\n",
       "2018-08-30 16:00:00         254\n",
       "2018-04-24 00:00:00         253\n",
       "2018-07-19 10:00:00         251"
      ]
     },
     "execution_count": 13,
     "metadata": {},
     "output_type": "execute_result"
    }
   ],
   "source": [
    "#ver los valores maximos de pedidos\n",
    "orders = df_taxis.sort_values(by='num_orders', ascending=False).head(20)\n",
    "orders"
   ]
  },
  {
   "cell_type": "markdown",
   "metadata": {},
   "source": [
    "Mediante un pequeño análisis se puede ver que las horas más concurridas dónde más se realizan más pedidos son:  00:00 a 04:00, 10:00, 16:00, 17:00 y 23:00.\n",
    "Dicho patrón de horas se puede observar en un gráfico dónde vemos de cerca el primer y último día del conjunto de datos. Por otro lado tamibén se observa que la hora donde menos se realizan pedidos es a las 6:00 am."
   ]
  },
  {
   "cell_type": "markdown",
   "metadata": {},
   "source": [
    "# 3. Entrenamiento del modelo"
   ]
  },
  {
   "cell_type": "code",
   "execution_count": 14,
   "metadata": {},
   "outputs": [],
   "source": [
    "#crear caracteristicas de calendario y desfase\n",
    "def make_features(data, max_lag, rolling_mean_size):\n",
    "    data['year'] = data.index.year\n",
    "    data['month'] = data.index.month\n",
    "    data['day'] = data.index.day\n",
    "    data['dayofweek'] = data.index.dayofweek \n",
    "    data['hour'] = data.index.hour\n",
    "    \n",
    "    for lag in range(1, max_lag +1):\n",
    "       data['lag_{}'.format(lag)] = data['num_orders'].shift(lag)\n",
    "       \n",
    "    data['rolling_mean'] = data['num_orders'].shift().rolling(rolling_mean_size).mean() \n",
    "    \n",
    "    return make_features"
   ]
  },
  {
   "cell_type": "code",
   "execution_count": 15,
   "metadata": {},
   "outputs": [],
   "source": [
    "#función para encontrar el valor rmse\n",
    "def rmse(y_pred, y):\n",
    "    mse = mean_squared_error(y_pred, y)\n",
    "    return mse ** 0.5"
   ]
  },
  {
   "cell_type": "code",
   "execution_count": 16,
   "metadata": {},
   "outputs": [
    {
     "data": {
      "text/plain": [
       "<function __main__.make_features(data, max_lag, rolling_mean_size)>"
      ]
     },
     "execution_count": 16,
     "metadata": {},
     "output_type": "execute_result"
    }
   ],
   "source": [
    "#crear caracteristicas\n",
    "make_features(df_taxis, 6, 10)"
   ]
  },
  {
   "cell_type": "code",
   "execution_count": 25,
   "metadata": {},
   "outputs": [
    {
     "data": {
      "text/html": [
       "<div>\n",
       "<style scoped>\n",
       "    .dataframe tbody tr th:only-of-type {\n",
       "        vertical-align: middle;\n",
       "    }\n",
       "\n",
       "    .dataframe tbody tr th {\n",
       "        vertical-align: top;\n",
       "    }\n",
       "\n",
       "    .dataframe thead th {\n",
       "        text-align: right;\n",
       "    }\n",
       "</style>\n",
       "<table border=\"1\" class=\"dataframe\">\n",
       "  <thead>\n",
       "    <tr style=\"text-align: right;\">\n",
       "      <th></th>\n",
       "      <th>num_orders</th>\n",
       "      <th>year</th>\n",
       "      <th>month</th>\n",
       "      <th>day</th>\n",
       "      <th>dayofweek</th>\n",
       "      <th>hour</th>\n",
       "      <th>lag_1</th>\n",
       "      <th>lag_2</th>\n",
       "      <th>lag_3</th>\n",
       "      <th>lag_4</th>\n",
       "      <th>lag_5</th>\n",
       "      <th>lag_6</th>\n",
       "      <th>rolling_mean</th>\n",
       "    </tr>\n",
       "  </thead>\n",
       "  <tbody>\n",
       "    <tr>\n",
       "      <th>0</th>\n",
       "      <td>0.879127</td>\n",
       "      <td>0.0</td>\n",
       "      <td>-1.462505</td>\n",
       "      <td>-1.675692</td>\n",
       "      <td>-0.00273</td>\n",
       "      <td>-1.661325</td>\n",
       "      <td>NaN</td>\n",
       "      <td>NaN</td>\n",
       "      <td>NaN</td>\n",
       "      <td>NaN</td>\n",
       "      <td>NaN</td>\n",
       "      <td>NaN</td>\n",
       "      <td>NaN</td>\n",
       "    </tr>\n",
       "    <tr>\n",
       "      <th>1</th>\n",
       "      <td>0.012822</td>\n",
       "      <td>0.0</td>\n",
       "      <td>-1.462505</td>\n",
       "      <td>-1.675692</td>\n",
       "      <td>-0.00273</td>\n",
       "      <td>-1.516862</td>\n",
       "      <td>0.880350</td>\n",
       "      <td>NaN</td>\n",
       "      <td>NaN</td>\n",
       "      <td>NaN</td>\n",
       "      <td>NaN</td>\n",
       "      <td>NaN</td>\n",
       "      <td>NaN</td>\n",
       "    </tr>\n",
       "    <tr>\n",
       "      <th>2</th>\n",
       "      <td>-0.298160</td>\n",
       "      <td>0.0</td>\n",
       "      <td>-1.462505</td>\n",
       "      <td>-1.675692</td>\n",
       "      <td>-0.00273</td>\n",
       "      <td>-1.372399</td>\n",
       "      <td>0.013438</td>\n",
       "      <td>0.881897</td>\n",
       "      <td>NaN</td>\n",
       "      <td>NaN</td>\n",
       "      <td>NaN</td>\n",
       "      <td>NaN</td>\n",
       "      <td>NaN</td>\n",
       "    </tr>\n",
       "    <tr>\n",
       "      <th>3</th>\n",
       "      <td>-0.409225</td>\n",
       "      <td>0.0</td>\n",
       "      <td>-1.462505</td>\n",
       "      <td>-1.675692</td>\n",
       "      <td>-0.00273</td>\n",
       "      <td>-1.227936</td>\n",
       "      <td>-0.297761</td>\n",
       "      <td>0.014149</td>\n",
       "      <td>0.882449</td>\n",
       "      <td>NaN</td>\n",
       "      <td>NaN</td>\n",
       "      <td>NaN</td>\n",
       "      <td>NaN</td>\n",
       "    </tr>\n",
       "    <tr>\n",
       "      <th>4</th>\n",
       "      <td>-0.920123</td>\n",
       "      <td>0.0</td>\n",
       "      <td>-1.462505</td>\n",
       "      <td>-1.675692</td>\n",
       "      <td>-0.00273</td>\n",
       "      <td>-1.083473</td>\n",
       "      <td>-0.408904</td>\n",
       "      <td>-0.297350</td>\n",
       "      <td>0.014529</td>\n",
       "      <td>0.882941</td>\n",
       "      <td>NaN</td>\n",
       "      <td>NaN</td>\n",
       "      <td>NaN</td>\n",
       "    </tr>\n",
       "  </tbody>\n",
       "</table>\n",
       "</div>"
      ],
      "text/plain": [
       "   num_orders  year     month       day  dayofweek      hour     lag_1  \\\n",
       "0    0.879127   0.0 -1.462505 -1.675692   -0.00273 -1.661325       NaN   \n",
       "1    0.012822   0.0 -1.462505 -1.675692   -0.00273 -1.516862  0.880350   \n",
       "2   -0.298160   0.0 -1.462505 -1.675692   -0.00273 -1.372399  0.013438   \n",
       "3   -0.409225   0.0 -1.462505 -1.675692   -0.00273 -1.227936 -0.297761   \n",
       "4   -0.920123   0.0 -1.462505 -1.675692   -0.00273 -1.083473 -0.408904   \n",
       "\n",
       "      lag_2     lag_3     lag_4  lag_5  lag_6  rolling_mean  \n",
       "0       NaN       NaN       NaN    NaN    NaN           NaN  \n",
       "1       NaN       NaN       NaN    NaN    NaN           NaN  \n",
       "2  0.881897       NaN       NaN    NaN    NaN           NaN  \n",
       "3  0.014149  0.882449       NaN    NaN    NaN           NaN  \n",
       "4 -0.297350  0.014529  0.882941    NaN    NaN           NaN  "
      ]
     },
     "execution_count": 25,
     "metadata": {},
     "output_type": "execute_result"
    }
   ],
   "source": [
    "#escalar las características\n",
    "scaler = StandardScaler()\n",
    "scaler.fit(df_taxis)\n",
    "\n",
    "data_scaled = pd.DataFrame(scaler.transform(df_taxis), columns=df_taxis.columns)\n",
    "\n",
    "data_scaled.head()"
   ]
  },
  {
   "cell_type": "code",
   "execution_count": 15,
   "metadata": {},
   "outputs": [],
   "source": [
    "#segmentar los conjuntos de entrenamiento, validacion y prueba\n",
    "train, valid = train_test_split(data_scaled, shuffle=False, test_size=0.2)\n",
    "valid, test = train_test_split(valid, shuffle=False, test_size=0.2)\n",
    "\n",
    "#eliminar los valores ausentes por el desfase\n",
    "train = train.dropna()\n",
    "valid = valid.dropna()\n",
    "\n",
    "#definir las caracteristicas y el objetivo\n",
    "features_train = train.drop(['num_orders'], axis=1)\n",
    "target_train = train['num_orders']\n",
    "\n",
    "features_valid = valid.drop(['num_orders'], axis=1)\n",
    "target_valid = valid['num_orders']\n",
    "\n",
    "features_test = test.drop(['num_orders'], axis=1)\n",
    "target_test = test['num_orders']"
   ]
  },
  {
   "cell_type": "markdown",
   "metadata": {},
   "source": [
    "# 3.1.1. Regresión lineal"
   ]
  },
  {
   "cell_type": "code",
   "execution_count": 16,
   "metadata": {},
   "outputs": [
    {
     "name": "stdout",
     "output_type": "stream",
     "text": [
      "Valor RMSE en regresión lineal en conjunto de validación: 0.9760617272385635\n"
     ]
    }
   ],
   "source": [
    "#modelo de regresión lineal \n",
    "model_lr = LinearRegression()\n",
    "model_lr.fit(features_train, target_train)\n",
    "\n",
    "pred_lr_valid = model_lr.predict(features_valid)\n",
    "\n",
    "rmse_lr = rmse(pred_lr_valid, target_valid)\n",
    "\n",
    "print('Valor RMSE en regresión lineal en conjunto de validación:', rmse_lr)"
   ]
  },
  {
   "cell_type": "markdown",
   "metadata": {},
   "source": [
    "# 3.1.2. Bosque aleatorio (regresión)"
   ]
  },
  {
   "cell_type": "code",
   "execution_count": 17,
   "metadata": {},
   "outputs": [],
   "source": [
    "#bosque aleatorio (regresion)\n",
    "#model_rfr = RandomForestRegressor(random_state=12345)\n",
    "\n",
    "#params = {\n",
    "    #'n_estimators' : [5, 8, 10],\n",
    "    #'max_depth' : [5, 6, 8],\n",
    "    #'min_samples_split' : [2, 3],\n",
    "    #'max_features' : [2, 4, 6]\n",
    "#} \n",
    " \n",
    "#buscar hiperparametros\n",
    "#grid = GridSearchCV(estimator=model_rfr, param_grid=params, cv=5)\n",
    "\n",
    "#grid.fit(features_train, target_train)"
   ]
  },
  {
   "cell_type": "code",
   "execution_count": 18,
   "metadata": {},
   "outputs": [],
   "source": [
    "#mostrar los mejores hiperparámetros del modelo\n",
    "#grid.best_params_"
   ]
  },
  {
   "cell_type": "code",
   "execution_count": 19,
   "metadata": {},
   "outputs": [
    {
     "name": "stdout",
     "output_type": "stream",
     "text": [
      "Valor RMSE para bosque aleatorio en conjunto de validación: 0.9242993694880368\n"
     ]
    }
   ],
   "source": [
    "#entrenar el modelo con los hiperparametro del grid\n",
    "model_rfr = RandomForestRegressor(random_state=12345,\n",
    "                                  n_estimators=10,\n",
    "                                  max_depth=8,\n",
    "                                  min_samples_split=2,\n",
    "                                  max_features=6 \n",
    ")\n",
    "                                  \n",
    "model_rfr.fit(features_train, target_train)\n",
    "\n",
    "pred_rfr_valid = model_rfr.predict(features_valid)\n",
    "\n",
    "rmse_rfr = rmse(pred_rfr_valid, target_valid)\n",
    "                                  \n",
    "print('Valor RMSE para bosque aleatorio en conjunto de validación:', rmse_rfr)                                 "
   ]
  },
  {
   "cell_type": "markdown",
   "metadata": {},
   "source": [
    "# 3.1.3. Modelo Catboost"
   ]
  },
  {
   "cell_type": "code",
   "execution_count": 20,
   "metadata": {},
   "outputs": [
    {
     "name": "stdout",
     "output_type": "stream",
     "text": [
      "0:\tlearn: 0.6001805\ttotal: 62ms\tremaining: 6.14s\n",
      "10:\tlearn: 0.4462264\ttotal: 136ms\tremaining: 1.1s\n",
      "20:\tlearn: 0.3929552\ttotal: 251ms\tremaining: 942ms\n",
      "30:\tlearn: 0.3638073\ttotal: 290ms\tremaining: 646ms\n",
      "40:\tlearn: 0.3313704\ttotal: 316ms\tremaining: 455ms\n",
      "50:\tlearn: 0.3045963\ttotal: 336ms\tremaining: 323ms\n",
      "60:\tlearn: 0.2861359\ttotal: 497ms\tremaining: 318ms\n",
      "70:\tlearn: 0.2697738\ttotal: 542ms\tremaining: 221ms\n",
      "80:\tlearn: 0.2554041\ttotal: 562ms\tremaining: 132ms\n",
      "90:\tlearn: 0.2428798\ttotal: 580ms\tremaining: 57.4ms\n",
      "99:\tlearn: 0.2286473\ttotal: 598ms\tremaining: 0us\n",
      "\n",
      "Valor RMSE en modelo Catboost en conjunto de validación: 0.9165562726200792\n"
     ]
    }
   ],
   "source": [
    "#construir un modelo catboost\n",
    "model_cb = CatBoostRegressor(random_seed=42, loss_function='RMSE', iterations=100, learning_rate=0.8, verbose=10)\n",
    "\n",
    "model_cb.fit(features_train, target_train)\n",
    "\n",
    "pred_cb_valid = model_cb.predict(features_valid)\n",
    "\n",
    "rmse_cb = rmse(pred_cb_valid, target_valid)\n",
    "print()\n",
    "print('Valor RMSE en modelo Catboost en conjunto de validación:', rmse_cb)"
   ]
  },
  {
   "cell_type": "markdown",
   "metadata": {},
   "source": [
    "# 3.1.4 Modelo lightGBM"
   ]
  },
  {
   "cell_type": "code",
   "execution_count": 21,
   "metadata": {},
   "outputs": [],
   "source": [
    "#construir un modelo lighGBM\n",
    "#model_lgb = LGBMRegressor(random_state=12345, )\n",
    "\n",
    "\n",
    "#params = {\n",
    "    #'learning_rate' : [0.1, 0.5, 0.8],\n",
    "    #'n_estimators' : [40, 60, 80, 100],\n",
    "    #'max_depth' : [3, 6, 8, 10],\n",
    "#} \n",
    " \n",
    "#buscar hiperparametros\n",
    "#grid = GridSearchCV(estimator=model_lgb, param_grid=params, cv=8)\n",
    "\n",
    "#grid.fit(features_train, target_train)"
   ]
  },
  {
   "cell_type": "code",
   "execution_count": 22,
   "metadata": {},
   "outputs": [],
   "source": [
    "#mostrar los mejores hiperparámetros del modelo\n",
    "#grid.best_params_"
   ]
  },
  {
   "cell_type": "code",
   "execution_count": 23,
   "metadata": {},
   "outputs": [
    {
     "name": "stdout",
     "output_type": "stream",
     "text": [
      "Valor RMSE para modelo lightGBM en conjunto de validación: 0.8490716380834\n"
     ]
    }
   ],
   "source": [
    "#entrenar el modelo con los hiperparametros\n",
    "model_lgb = LGBMRegressor(random_state=54321,\n",
    "                          learning_rate=0.1,\n",
    "                          n_estimators=80, \n",
    "                          max_depth=6\n",
    ")\n",
    "                \n",
    "model_lgb.fit(features_train, target_train)\n",
    "\n",
    "pred_lgb_valid = model_lgb.predict(features_valid)\n",
    "\n",
    "rmse_lgb = rmse(pred_lgb_valid, target_valid)\n",
    "\n",
    "print('Valor RMSE para modelo lightGBM en conjunto de validación:', rmse_lgb)"
   ]
  },
  {
   "cell_type": "markdown",
   "metadata": {},
   "source": [
    "# 4. Elección del modelo"
   ]
  },
  {
   "cell_type": "markdown",
   "metadata": {},
   "source": [
    "El modelo que proporcionó el menor valor rmse en el conjunto de validación fue el lightGBM. Por lo tanto, lo pomdré a prueba con el conjunto de prueba."
   ]
  },
  {
   "cell_type": "code",
   "execution_count": 24,
   "metadata": {},
   "outputs": [
    {
     "name": "stdout",
     "output_type": "stream",
     "text": [
      "Valor RMSE para lightGBM en conjunto de prueba: 1.4601344493673765\n"
     ]
    }
   ],
   "source": [
    "#calcular valor rmse en conjunto de prueba\n",
    "pred_lgb_test = model_lgb.predict(features_test)\n",
    "\n",
    "rmse_lgb_test = rmse(pred_lgb_test, target_test)\n",
    "\n",
    "print('Valor RMSE para lightGBM en conjunto de prueba:', rmse_lgb_test)"
   ]
  },
  {
   "cell_type": "markdown",
   "metadata": {},
   "source": [
    "# 5. Conclusiones generales \n",
    "\n",
    "Para desarrollar este proyecto preparé el dataset disponible, asegurándome de que los tipos de datos fueran los correspondientes y que no hubieran valores ausentes ni duplicados. \n",
    "\n",
    "Una vez con los datos preparados pasé al análisis de los mismos y pude notar una tendencia ascendente en la cantidad de pedidos de taxis a medida que aumentan los meses y nos acercamos al mes de agosto. Por otra parte, también se observó un proceso estacionario en la distribución de los datos y al ver más de cerca mediante un gráfico el primer y el último día registrados en el dataset, correspondientes al 1ero de marzo y el 31 de agosto del 2018, se puede ver que esta distribución estacionaria corresponde a las horas en las que se registra el volumen de los pedidos, teniendo así un patrón de horario donde la hora en la que menos clientes hay, son las 06:00, mientras que las horas más concurridas son: 00:00 a 04:00, 10:00, 16:00, 17:00 y 23:00.\n",
    "\n",
    "A continuación pasé al entrenamiento de 4  modelos de regresión con la búsqueda de los mejores hiperparámetros mediante la implementación de un GridSearch. Por otra parte, procedí a escalar mis características y posteriormente segmentar tres conjuntos: entrenamiento, validación y prueba. Todos los modelos fueron evaluados con la métrica RMSE. \n",
    "\n",
    "Finalmente elegí el modelo lightGBM ya que presentó el valor más bajo en cuanto a la métrica de evaluación (0.84) y lo puse a prueba con el segmento reservado para prueba, obteniendo un valor RMSE bastante bajo de 1.46. "
   ]
  },
  {
   "cell_type": "markdown",
   "metadata": {},
   "source": [
    "# 6. Lista de revisión"
   ]
  },
  {
   "cell_type": "markdown",
   "metadata": {},
   "source": [
    "- [x]  \t\n",
    "Jupyter Notebook está abierto.\n",
    "- [ x]  El código no tiene errores\n",
    "- [x]  Las celdas con el código han sido colocadas en el orden de ejecución.\n",
    "- [x]  \tLos datos han sido descargados y preparados.\n",
    "- [x]  Se ha realizado el paso 2: los datos han sido analizados\n",
    "- [x]  Se entrenó el modelo y se seleccionaron los hiperparámetros\n",
    "- [x]  Se han evaluado los modelos. Se expuso una conclusión\n",
    "- [x] La *RECM* para el conjunto de prueba no es más de 48"
   ]
  }
 ],
 "metadata": {
  "kernelspec": {
   "display_name": "Python 3",
   "language": "python",
   "name": "python3"
  },
  "language_info": {
   "codemirror_mode": {
    "name": "ipython",
    "version": 3
   },
   "file_extension": ".py",
   "mimetype": "text/x-python",
   "name": "python",
   "nbconvert_exporter": "python",
   "pygments_lexer": "ipython3",
   "version": "3.12.2"
  }
 },
 "nbformat": 4,
 "nbformat_minor": 2
}
